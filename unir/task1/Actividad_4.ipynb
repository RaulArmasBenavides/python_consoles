{
 "cells": [
  {
   "cell_type": "markdown",
   "metadata": {},
   "source": [
    "## Ejercicio 1\n",
    "\n",
    "Crea una función llamada ejercicio1, que recibe la ruta donde se encuentra un dataset y devuelve una DataFrame con los datos que hay en el dataset. Para comprobar esta función utiliza el dataset `titanic.csv` que se incluye en esta actividad."
   ]
  },
  {
   "cell_type": "markdown",
   "metadata": {},
   "source": [
    "## Ejercicio 2\n",
    "\n",
    "Crea otra función llamada ejercicio2. Esta función recibe un único argumento que es un dataframe. En concreto debe recibir el dataframe que se ha obtenido de leer el dataset `titanic.csv`. Esta función devolverá otro dataset que incluya únicamente a los pasajeros menores de 35 años y que viajaban en 3ª clase."
   ]
  },
  {
   "cell_type": "markdown",
   "metadata": {},
   "source": [
    "## Ejercicio 3\n",
    "\n",
    "Crea una función llamada ejercicio3, que recibiendo como argumento el dataframe del dataset `titanic.csv`, calcule el porcentaje de persona que sobrevieron. Redondee el resultado al segundo decimal."
   ]
  },
  {
   "cell_type": "markdown",
   "metadata": {},
   "source": [
    "## Ejercicio 4\n",
    "\n",
    "Implementa una función llamada ejercicio4 que recibiendo el dataframe con los datos del Titanic, devuelva en una tupla el porcentaje de hombres y mujeres que viajaban en el Titanic, redondeados al segundo decimal."
   ]
  },
  {
   "cell_type": "markdown",
   "metadata": {},
   "source": [
    "## Ejercicio 5\n",
    "\n",
    "\n",
    "Implementa una función llamada ejercicio5 que recibiendo el dataframe con los datos del Titanic, devuelva en una lista el número de pasajeros que viajaban en 1ª, 2ª y 3ª clase."
   ]
  },
  {
   "cell_type": "code",
   "execution_count": 2,
   "metadata": {},
   "outputs": [],
   "source": [
    "import pandas as pd\n",
    "\n",
    "def ejercicio1(path):\n",
    "    df =pd.read_csv(path,sep=',')\n",
    "    return df\n",
    "\n",
    "def ejercicio2(df):\n",
    "    filtered_df = df[(df['Age'] < 35) & (df['Pclass'] == 3)]\n",
    "    return filtered_df\n",
    "\n",
    "def ejercicio3(df):\n",
    "    total_sobrevivientes = df['Survived'].sum()\n",
    "    total_pasajeros = len(df)\n",
    "    porcentaje_sobrevivientes = (total_sobrevivientes / total_pasajeros) * 100\n",
    "    return round(porcentaje_sobrevivientes, 2)\n",
    "\n",
    "\n",
    "def ejercicio4(df):\n",
    "    total_hombres = df[df['Sex'] == 'male'].shape[0]\n",
    "    total_mujeres = df[df['Sex'] == 'female'].shape[0]\n",
    "    total_pasajeros = len(df)\n",
    "    porcentaje_hombres = (total_hombres / total_pasajeros) * 100\n",
    "    porcentaje_mujeres = (total_mujeres / total_pasajeros) * 100\n",
    "    return (round(porcentaje_hombres, 2), round(porcentaje_mujeres, 2))\n",
    "\n",
    "def ejercicio5(df):\n",
    "    conteos_clase =[]\n",
    "    conteos_clase.append(df[df['Pclass'] == 1].shape[0])\n",
    "    conteos_clase.append(df[df['Pclass'] == 2].shape[0])\n",
    "    conteos_clase.append(df[df['Pclass'] == 3].shape[0])\n",
    "    return conteos_clase\n"
   ]
  }
 ],
 "metadata": {
  "kernelspec": {
   "display_name": "Python 3",
   "language": "python",
   "name": "python3"
  },
  "language_info": {
   "codemirror_mode": {
    "name": "ipython",
    "version": 3
   },
   "file_extension": ".py",
   "mimetype": "text/x-python",
   "name": "python",
   "nbconvert_exporter": "python",
   "pygments_lexer": "ipython3",
   "version": "3.12.2"
  }
 },
 "nbformat": 4,
 "nbformat_minor": 2
}
