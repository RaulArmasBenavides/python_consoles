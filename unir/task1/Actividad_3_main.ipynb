{
 "cells": [
  {
   "cell_type": "markdown",
   "metadata": {},
   "source": [
    "En la siguiente celda, completa los siguientes ejercicios:\n",
    "\n",
    "## Ejercicio 1\n",
    "\n",
    "Escribe una clase llamada Numero. Esta clase debe tener una constructora que reciba un número y almacene ese número en 2 atributos: romano que almacenará el número en el formato de número romanos como una cadena de caracteres y normal que guardará el número que nos han dado en la constructora.\n",
    "\n",
    "## Ejercicio 2\n",
    "\n",
    "Crea dos nuevos métodos en la clase Numero. El primer método, llamado imprime(), imprime un mensaje mostrando el valor de ambos atributos; el segundo método, llamado suma_romano(), tendrá como parámetros una cadena de caracteres que representará otro número romano y que sumaremos a los atributos que ya teníamos.\n",
    "\n",
    "**NOTA:** si necesita convertir el número romano a número normal para realizar las operaciones implemente un nuevo método.\n",
    "\n",
    "## Ejercicio 3\n",
    "\n",
    "Define una función llamada is_romano() dentro de la clase Numero que a partir de una cadena de caracteres, devuelve True si esa cadena de caracteres corresponde con un número romano y falso en caso contrario. Después, modifica el método para que lance un error en el caso de que el valor que nos pasan por parámetro no se corresponde con el patrón de un número romano."
   ]
  },
  {
   "cell_type": "code",
   "execution_count": 5,
   "metadata": {},
   "outputs": [
    {
     "name": "stdout",
     "output_type": "stream",
     "text": [
      "Normal: 5, Romano: V\n",
      "Normal: 15, Romano: XV\n",
      "Normal: 20, Romano: XX\n"
     ]
    }
   ],
   "source": [
    "class Numero:\n",
    "    def __init__(self, numero):\n",
    "        self.normal = numero\n",
    "        self.romano = self.convertir_a_romano(numero)\n",
    "    \n",
    "    def convertir_a_romano(self, numero):\n",
    "            roman_map = { 1: 'I', 4: 'IV', 5: 'V', 9: 'IX', 10: 'X', 40: 'XL', 50: 'L', 90: 'XC', 100: 'C', 400: 'XD', 500: 'D', 900: 'CM', 1000: 'M'}\n",
    "            integers = list(roman_map)\n",
    "            symbols = list(roman_map.values())\n",
    "            i = 12\n",
    "            result = \"\"\n",
    "\n",
    "            while numero > 0:\n",
    "                if integers[i] <= numero:\n",
    "                    result += symbols[i]\n",
    "                    numero -= integers[i]\n",
    "                else:\n",
    "                    i -= 1\n",
    "            return result\n",
    "    \n",
    "    def imprime(self):\n",
    "        print(f\"Normal: {self.normal}, Romano: {self.romano}\")\n",
    "    \n",
    "    def suma_romano(self, otro_romano):\n",
    "        if not self.is_romano(otro_romano):\n",
    "            raise ValueError(f\"{otro_romano} no es un número romano válido.\")\n",
    "        otro_normal = self.convertir_a_normal(otro_romano)\n",
    "        self.normal += otro_normal\n",
    "        self.romano = self.convertir_a_romano(self.normal)\n",
    "\n",
    "    def convertir_a_normal(self, romano):\n",
    "        romano_a_valor = {\n",
    "            'I': 1, 'V': 5, 'X': 10, 'L': 50, 'C': 100, 'D': 500, 'M': 1000\n",
    "        }\n",
    "        total = 0\n",
    "        i = 0\n",
    "        while i < len(romano):\n",
    "            if i + 1 < len(romano) and romano_a_valor[romano[i]] < romano_a_valor[romano[i + 1]]:\n",
    "                total -= romano_a_valor[romano[i]]\n",
    "            else:\n",
    "                total += romano_a_valor[romano[i]]\n",
    "            i += 1\n",
    "        return total\n",
    "    \n",
    "    def is_romano(self, romano):\n",
    "        import re\n",
    "        patron = '^M{0,4}(CM|CD|D?C{0,3})(XC|XL|L?X{0,3})(IX|IV|V?I{0,3})$'\n",
    "        if re.match(patron, romano):\n",
    "            return True\n",
    "        else:\n",
    "            raise ValueError(f\"{romano} no es un número romano válido.\")\n",
    "        \n",
    "if __name__ == \"__main__\":\n",
    "    a = Numero(5)\n",
    "    a.imprime()\n",
    "    a.suma_romano('X')\n",
    "    a.imprime()\n",
    "    a.suma_romano('V')\n",
    "    a.imprime()"
   ]
  },
  {
   "cell_type": "markdown",
   "metadata": {},
   "source": [
    "En la siguiente celda, completa los siguientes ejercicios:\n",
    "\n",
    "## Ejercicio 4\n",
    "\n",
    "Implementa una clase llamada MejorNumero. Esta clase heredará las propiedades de Numero e incluirá dos métodos nuevos, llamados resta() y multiplica(), para restar y multiplicar los atributos recibiendo por parámetro otro número romano. \n",
    "\n",
    "\n",
    "## Ejercicio 5\n",
    "\n",
    "En la clase MejorNumero, crea un nuevo método llamado iterar() que reciba una lista con 3 números romanos. A continuación, iterando sobre los elementos de la lista llamará a la función suma_romano(). Los posibles errores se tendrán que gestionar con excepciones (try...except...) para mostrar un mensaje y seguir ejecutando el siguiente número.\n",
    "\n",
    "**NOTA:** el mensaje de error ha de seguir el siguiente formato --> print('Ha fallado el número', 5). "
   ]
  },
  {
   "cell_type": "code",
   "execution_count": 6,
   "metadata": {},
   "outputs": [
    {
     "name": "stdout",
     "output_type": "stream",
     "text": [
      "Normal: 25, Romano: XXV\n",
      "Normal: 50, Romano: L\n",
      "Normal: 103, Romano: CIII\n"
     ]
    }
   ],
   "source": [
    "class MejorNumero(Numero):\n",
    "    def resta(self, otro_romano):\n",
    "        if not self.is_romano(otro_romano):\n",
    "            raise ValueError(f\"{otro_romano} no es un número romano válido.\")\n",
    "        otro_normal = self.convertir_a_normal(otro_romano)\n",
    "        self.normal -= otro_normal\n",
    "        if self.normal < 1:\n",
    "            raise ValueError(\"El resultado de la resta es menor que 1, lo cual no es válido en números romanos.\")\n",
    "        self.romano = self.convertir_a_romano(self.normal)\n",
    "\n",
    "    def multiplica(self, otro_romano):\n",
    "        if not self.is_romano(otro_romano):\n",
    "            raise ValueError(f\"{otro_romano} no es un número romano válido.\")\n",
    "        otro_normal = self.convertir_a_normal(otro_romano)\n",
    "        self.normal *= otro_normal\n",
    "        self.romano = self.convertir_a_romano(self.normal)\n",
    "\n",
    "    def iterar(self, lista_romanos):\n",
    "        for romano in lista_romanos:\n",
    "            try:\n",
    "                self.suma_romano(romano)\n",
    "            except ValueError as e:\n",
    "                print('Ha fallado el número', romano)\n",
    "\n",
    "if __name__ == \"__main__\":\n",
    "    mn= MejorNumero(25)\n",
    "    mn.imprime()\n",
    "    mn.multiplica('II')\n",
    "    mn.imprime()\n",
    "    mn.iterar(['L','II','I'])\n",
    "    mn.imprime()"
   ]
  }
 ],
 "metadata": {
  "kernelspec": {
   "display_name": "Python 3",
   "language": "python",
   "name": "python3"
  },
  "language_info": {
   "codemirror_mode": {
    "name": "ipython",
    "version": 3
   },
   "file_extension": ".py",
   "mimetype": "text/x-python",
   "name": "python",
   "nbconvert_exporter": "python",
   "pygments_lexer": "ipython3",
   "version": "3.12.2"
  }
 },
 "nbformat": 4,
 "nbformat_minor": 2
}
