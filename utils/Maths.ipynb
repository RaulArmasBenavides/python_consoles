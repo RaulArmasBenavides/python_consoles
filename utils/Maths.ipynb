{
 "cells": [
  {
   "cell_type": "markdown",
   "metadata": {},
   "source": [
    "\n",
    "Funcion que devuelve de Romano a Entero "
   ]
  },
  {
   "cell_type": "code",
   "execution_count": 1,
   "metadata": {},
   "outputs": [],
   "source": [
    "def roman_to_int(s):\n",
    "    \"\"\"\n",
    "    Convierte numero romano a entero\n",
    "    \"\"\"\n",
    "    roman_values = {\"I\": 1, \"V\": 5, \"X\": 10, \"L\": 50, \"C\": 100, \"D\": 500, \"M\": 1000}\n",
    "    result = 0\n",
    "    for i in range(len(s)):\n",
    "        if i + 1 < len(s) and roman_values[s[i]] < roman_values[s[i + 1]]:\n",
    "            result -= roman_values[s[i]]\n",
    "        else:\n",
    "            result += roman_values[s[i]]\n",
    "\n",
    "    return result\n"
   ]
  },
  {
   "cell_type": "markdown",
   "metadata": {},
   "source": [
    "Función que devuelve de Entero a Romano"
   ]
  },
  {
   "cell_type": "code",
   "execution_count": 2,
   "metadata": {},
   "outputs": [],
   "source": [
    "def int_to_roman(x):\n",
    "    \"\"\"\n",
    "    Convierte numero entero a romano\n",
    "    \"\"\"\n",
    "    roman_map = { 1: 'I', 4: 'IV', 5: 'V', 9: 'IX', 10: 'X', 40: 'XL', 50: 'L', 90: 'XC', 100: 'C', 400: 'XD', 500: 'D', 900: 'CM', 1000: 'M'}\n",
    "    integers = list(roman_map)\n",
    "    symbols = list(roman_map.values())\n",
    "    i = 12\n",
    "    result = \"\"\n",
    "\n",
    "    while x != 0:\n",
    "        if integers[i] <= x:\n",
    "            result += symbols[i]\n",
    "            x -= integers[i]\n",
    "        else:\n",
    "            i -= 1\n",
    "    return result"
   ]
  }
 ],
 "metadata": {
  "kernelspec": {
   "display_name": "Python 3",
   "language": "python",
   "name": "python3"
  },
  "language_info": {
   "codemirror_mode": {
    "name": "ipython",
    "version": 3
   },
   "file_extension": ".py",
   "mimetype": "text/x-python",
   "name": "python",
   "nbconvert_exporter": "python",
   "pygments_lexer": "ipython3",
   "version": "3.9.0"
  }
 },
 "nbformat": 4,
 "nbformat_minor": 2
}
