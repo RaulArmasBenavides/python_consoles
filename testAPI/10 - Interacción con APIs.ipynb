{
 "cells": [
  {
   "cell_type": "markdown",
   "id": "a9b35ab8",
   "metadata": {},
   "source": [
    "# Interacción con APIs\n",
    "\n",
    "Ahora que sabemos lo básico de `requests` veamos cómo podemos interactuar con nuestra API de clientes.\n",
    "\n",
    "Si no la tenemos en marcha vamos a activarla, recordad que le cambiamos el nombre así que deberíamos cambiar el script en `Pipfile`:\n",
    "\n",
    "```toml\n",
    "[scripts]\n",
    "api = \"uvicorn main:app --reload\"\n",
    "```\n",
    "\n",
    "Y luego:\n",
    "\n",
    "```bash\n",
    "$ pipenv run api\n",
    "```\n",
    "\n",
    "Alternativamente podemos utilizar la API desplegada en `Deta`.\n",
    "\n",
    "## Listar los clientes\n",
    "\n",
    "Empecemos con una petición para consultar todos los clientes:"
   ]
  },
  {
   "cell_type": "code",
   "execution_count": null,
   "id": "5ce437cc",
   "metadata": {},
   "outputs": [],
   "source": [
    "import requests\n",
    "\n",
    "dominio = \"http://127.0.0.1:8000\"\n",
    "# dominio = \"https://vlavj0.deta.dev\"\n",
    "        \n",
    "r = requests.get(f\"{dominio}/clientes\")\n",
    "\n",
    "print(r.text)"
   ]
  },
  {
   "cell_type": "markdown",
   "id": "5d29bb2c",
   "metadata": {},
   "source": [
    "Recordemos que nuestra api devuelve respuestas de tipo `json` así que debemos transformarlas a algo que podamos manipular. La propia respuesta tiene un método llamado `json()` que transforma el contenido en un diccionario:"
   ]
  },
  {
   "cell_type": "code",
   "execution_count": null,
   "id": "8631e401",
   "metadata": {},
   "outputs": [],
   "source": [
    "r.json()"
   ]
  },
  {
   "cell_type": "markdown",
   "id": "26c93722",
   "metadata": {},
   "source": [
    "Podemos iterar cada valor de la colección cómodamente:"
   ]
  },
  {
   "cell_type": "code",
   "execution_count": null,
   "id": "d184b6ad",
   "metadata": {},
   "outputs": [],
   "source": [
    "for cliente in r.json():\n",
    "    print(cliente['dni'], cliente['nombre'], cliente['apellido'])"
   ]
  },
  {
   "cell_type": "markdown",
   "id": "af05c2ad",
   "metadata": {},
   "source": [
    "## Consultar un cliente\n",
    "\n",
    "¿Fácil verdad? Vamos a consultar un cliente a partir de su DNI:"
   ]
  },
  {
   "cell_type": "code",
   "execution_count": null,
   "id": "ff7600a4",
   "metadata": {},
   "outputs": [],
   "source": [
    "dni = \"48H\"\n",
    "\n",
    "r = requests.get(f\"{dominio}/clientes/buscar/{dni}\")\n",
    "print(r.text)"
   ]
  },
  {
   "cell_type": "markdown",
   "id": "b27962e1",
   "metadata": {},
   "source": [
    "En esta ocasión en lugar de una lista devolvemos solo un objeto, podemos simplemente acceder a sus campos:"
   ]
  },
  {
   "cell_type": "code",
   "execution_count": null,
   "id": "99527d7a",
   "metadata": {},
   "outputs": [],
   "source": [
    "cliente = r.json()\n",
    "\n",
    "print(cliente['dni'], cliente['nombre'], cliente['apellido'])"
   ]
  },
  {
   "cell_type": "markdown",
   "id": "2ad91cf3",
   "metadata": {},
   "source": [
    "En caso de que el cliente no se encuentre devolvemos un error 404, ya vimos como podemos tratar:\n",
    "\n"
   ]
  },
  {
   "cell_type": "code",
   "execution_count": null,
   "id": "b8891c51",
   "metadata": {},
   "outputs": [],
   "source": [
    "import requests\n",
    "from requests import HTTPError\n",
    "\n",
    "dominio = \"http://127.0.0.1:8000\"\n",
    "dni = \"99Z\"\n",
    "    \n",
    "try:\n",
    "    r = requests.get(f\"{dominio}/clientes/buscar/{dni}\")\n",
    "    r.raise_for_status()\n",
    "    r.json()\n",
    "    print(cliente['dni'], cliente['nombre'], cliente['apellido'])\n",
    "except HTTPError as ex:\n",
    "    print(ex)"
   ]
  },
  {
   "cell_type": "markdown",
   "id": "85933afa",
   "metadata": {},
   "source": [
    "## Crear un cliente\n",
    "\n",
    "Para la creación establecimos el uso del método POST con unos argumentos, los valores ya vimos que se pueden enviar en un `payload` en forma de diccionario clave-valor:"
   ]
  },
  {
   "cell_type": "code",
   "execution_count": null,
   "id": "26394d45",
   "metadata": {},
   "outputs": [],
   "source": [
    "import requests\n",
    "from requests import HTTPError\n",
    "\n",
    "dominio = \"http://127.0.0.1:8000\"\n",
    "\n",
    "payload = {\n",
    "    'dni': '99Z',\n",
    "    'nombre': 'Hector',\n",
    "    'apellido': 'Costa'\n",
    "}\n",
    "    \n",
    "r = requests.post(f\"{dominio}/clientes/crear/\", data=payload)\n",
    "print(r.text)"
   ]
  },
  {
   "cell_type": "markdown",
   "id": "787bb866",
   "metadata": {},
   "source": [
    "Como vemos nos devuelve un error, nuestra API nos dice que el tipo diccionario del `payload` con los datos enviado no es válido. La razón es que nuestra API solo acepta datos en formato JSON así que cambiaremos el tipo de envío:"
   ]
  },
  {
   "cell_type": "code",
   "execution_count": null,
   "id": "30e019e0",
   "metadata": {},
   "outputs": [],
   "source": [
    "r = requests.post(f\"{dominio}/clientes/crear/\", json=payload)\n",
    "print(r.text)"
   ]
  },
  {
   "cell_type": "markdown",
   "id": "06ea356d",
   "metadata": {},
   "source": [
    "Ahora sí ya tenemos el usuario creado, en caso de crearlo de nuevo recibiremos un error por DNI duplicado:"
   ]
  },
  {
   "cell_type": "code",
   "execution_count": null,
   "id": "d50d948f",
   "metadata": {},
   "outputs": [],
   "source": [
    "r = requests.post(f\"{dominio}/clientes/crear/\", json=payload)\n",
    "print(r.text)"
   ]
  },
  {
   "cell_type": "markdown",
   "id": "10a427db",
   "metadata": {},
   "source": [
    "Podemos listar todos los clientes:"
   ]
  },
  {
   "cell_type": "code",
   "execution_count": null,
   "id": "42a81d93",
   "metadata": {},
   "outputs": [],
   "source": [
    "r = requests.get(f\"{dominio}/clientes\")\n",
    "\n",
    "for cliente in r.json():\n",
    "    print(cliente['dni'], cliente['nombre'], cliente['apellido'])"
   ]
  },
  {
   "cell_type": "markdown",
   "id": "af8f4134",
   "metadata": {},
   "source": [
    "## Actualizar un cliente\n",
    "\n",
    "Como era de esperar `requests` contiene otros métodos como `put` y `delete`, vamos a modificar un cliente:"
   ]
  },
  {
   "cell_type": "code",
   "execution_count": null,
   "id": "c7f0da1f",
   "metadata": {},
   "outputs": [],
   "source": [
    "import requests\n",
    "from requests import HTTPError\n",
    "\n",
    "dominio = \"http://127.0.0.1:8000\"\n",
    "\n",
    "payload = {\n",
    "    'dni': '99Z',\n",
    "    'nombre': 'Victor',\n",
    "    'apellido': 'Acosta'\n",
    "}\n",
    "    \n",
    "r = requests.put(f\"{dominio}/clientes/actualizar/\", json=payload)\n",
    "print(r.text)"
   ]
  },
  {
   "cell_type": "markdown",
   "id": "c3b81126",
   "metadata": {},
   "source": [
    "Podemos volver a consultar la lista completo de clientes a ver si todo está correcto:"
   ]
  },
  {
   "cell_type": "code",
   "execution_count": null,
   "id": "fddfa41f",
   "metadata": {},
   "outputs": [],
   "source": [
    "r = requests.get(f\"{dominio}/clientes\")\n",
    "\n",
    "for cliente in r.json():\n",
    "    print(cliente['dni'], cliente['nombre'], cliente['apellido'])"
   ]
  },
  {
   "cell_type": "markdown",
   "id": "064b8a06",
   "metadata": {},
   "source": [
    "## Borrar un cliente\n",
    "\n",
    "Por último vamos a borrar el cliente creado mediante el método `delete` pasándole el DNI:"
   ]
  },
  {
   "cell_type": "code",
   "execution_count": null,
   "id": "330b9797",
   "metadata": {},
   "outputs": [],
   "source": [
    "import requests\n",
    "from requests import HTTPError\n",
    "\n",
    "dominio = \"http://127.0.0.1:8000\"\n",
    "dni = '99Z'\n",
    "    \n",
    "r = requests.delete(f\"{dominio}/clientes/borrar/{dni}\")\n",
    "print(r.text)"
   ]
  },
  {
   "cell_type": "markdown",
   "id": "d390ed3d",
   "metadata": {},
   "source": [
    "En principio debería haberse borrado, vamos a confirmarlo recuperando la lista completa de clientes:"
   ]
  },
  {
   "cell_type": "code",
   "execution_count": null,
   "id": "1f5ef5e9",
   "metadata": {},
   "outputs": [],
   "source": [
    "r = requests.get(f\"{dominio}/clientes\")\n",
    "\n",
    "for cliente in r.json():\n",
    "    print(cliente['dni'], cliente['nombre'], cliente['apellido'])"
   ]
  },
  {
   "cell_type": "markdown",
   "id": "cebd303d",
   "metadata": {},
   "source": [
    "¡Perfecto! Y si intentamos borrar un cliente que no existe..."
   ]
  },
  {
   "cell_type": "code",
   "execution_count": null,
   "id": "b4a7f090",
   "metadata": {},
   "outputs": [],
   "source": [
    "dni = '99Z'\n",
    "    \n",
    "r = requests.delete(f\"{dominio}/clientes/borrar/{dni}\")\n",
    "print(r.text)"
   ]
  },
  {
   "cell_type": "markdown",
   "id": "ffc69c3c",
   "metadata": {},
   "source": [
    "Pues nos devuelve un error 404 tal y como lo programamos en la API:"
   ]
  },
  {
   "cell_type": "code",
   "execution_count": null,
   "id": "b77bf720",
   "metadata": {},
   "outputs": [],
   "source": [
    "r.status_code"
   ]
  },
  {
   "cell_type": "markdown",
   "id": "2343de16",
   "metadata": {},
   "source": [
    "Muy bien, con esto hemos aprendido a crear una API e interactuar con ella a través de código."
   ]
  },
  {
   "cell_type": "code",
   "execution_count": null,
   "id": "f3ea5dff",
   "metadata": {},
   "outputs": [],
   "source": []
  }
 ],
 "metadata": {
  "kernelspec": {
   "display_name": "Python 3 (ipykernel)",
   "language": "python",
   "name": "python3"
  },
  "language_info": {
   "codemirror_mode": {
    "name": "ipython",
    "version": 3
   },
   "file_extension": ".py",
   "mimetype": "text/x-python",
   "name": "python",
   "nbconvert_exporter": "python",
   "pygments_lexer": "ipython3",
   "version": "3.10.5"
  }
 },
 "nbformat": 4,
 "nbformat_minor": 5
}
