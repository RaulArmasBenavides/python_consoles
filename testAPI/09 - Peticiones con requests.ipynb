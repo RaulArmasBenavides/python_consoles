{
 "cells": [
  {
   "cell_type": "markdown",
   "id": "2c7d6344",
   "metadata": {},
   "source": [
    "# Peticiones con requests\n",
    "\n",
    "Hasta ahora hemos visto como implementar una API con Python, pero ¿cómo interactuamos desde Python con una API? Pues generando peticiones HTTP directamente desde el código sin necesidad de un navegador. \n",
    "\n",
    "Para hacerlo tenemos a nuestra disposición un potente módulo externo llamado `requests`:\n",
    "\n",
    "```bash\n",
    "$ pip install requests\n",
    "```"
   ]
  },
  {
   "cell_type": "code",
   "execution_count": null,
   "id": "7334ed06",
   "metadata": {},
   "outputs": [],
   "source": [
    "!pip install requests"
   ]
  },
  {
   "cell_type": "markdown",
   "id": "6c0bd9d5",
   "metadata": {},
   "source": [
    "## Primera petición GET\n",
    "\n",
    "El módulo `requests` permite utilizar diferentes métodos como `get` y `post`, hagamos una prueba:"
   ]
  },
  {
   "cell_type": "code",
   "execution_count": null,
   "id": "2c610845",
   "metadata": {},
   "outputs": [],
   "source": [
    "import requests\n",
    "\n",
    "r = requests.get('https://www.wikipedia.es/')\n",
    "\n",
    "print(type(r)) # tipo del dato"
   ]
  },
  {
   "cell_type": "markdown",
   "id": "c0b024d6",
   "metadata": {},
   "source": [
    "Podemos ver información de la respuesta analizando los atributos del objeto `Response`:"
   ]
  },
  {
   "cell_type": "code",
   "execution_count": null,
   "id": "fe08ab26",
   "metadata": {},
   "outputs": [],
   "source": [
    "print(r.text) # contenido de la respuesta"
   ]
  },
  {
   "cell_type": "code",
   "execution_count": null,
   "id": "a2485b84",
   "metadata": {},
   "outputs": [],
   "source": [
    "print(r.status_code) # código de la respuesta"
   ]
  },
  {
   "cell_type": "code",
   "execution_count": null,
   "id": "fa2fdaea",
   "metadata": {},
   "outputs": [],
   "source": [
    "print(r.headers) # cabeceras de la respuesta"
   ]
  },
  {
   "cell_type": "code",
   "execution_count": null,
   "id": "cdd5e30c",
   "metadata": {},
   "outputs": [],
   "source": [
    "print(r.headers['date'])             # fecha de la petición\n",
    "print(r.headers['last-modified'])    # fecha de última modificación\n",
    "print(r.headers['content-type'])     # tipo del contenido\n",
    "print(r.headers['server'])           # servidor\n",
    "print(r.headers['content-language']) # idioma"
   ]
  },
  {
   "cell_type": "markdown",
   "id": "15dd5805",
   "metadata": {},
   "source": [
    "## Parámetros en las peticiones\n",
    "\n",
    "La herramienta `httpbin` es un servicio de peticiones y respuestas HTTP gratuito que proporciona un conjunto de rutas para pruebas. Podemos hacer una petición a `https://httpbin.org/get` y pasarle algunos datos para que los retorne de vuelta.\n",
    "\n",
    "Los parámetros GET se envían en el formato clave-valor, en Python podemos definirlos en un diccionario que generalmente recibe el nombre de `payload` (datos de carga):"
   ]
  },
  {
   "cell_type": "code",
   "execution_count": null,
   "id": "5d76760d",
   "metadata": {},
   "outputs": [],
   "source": [
    "url = 'https://httpbin.org/get'\n",
    "\n",
    "payload = {\n",
    "    'nombre': 'Hector Costa Guzman',\n",
    "    'intereses':['Python', 'Videojuegos'],\n",
    "    'edad': 33,\n",
    "}\n",
    "\n",
    "r = requests.get(url, params=payload)\n",
    "\n",
    "print(r.text)"
   ]
  },
  {
   "cell_type": "markdown",
   "id": "81d98680",
   "metadata": {},
   "source": [
    "La respuesta es una cadena en formato `json` que deberíamos *parsear* para extraer los datos, algo que veremos en la próxima lección.\n",
    "\n",
    "## Peticiones POST\n",
    "\n",
    "Como ya hemos comentado las peticiones POST sirven para enviar datos recopilados en un formulario. Podemos hacer la misma petición que antes utilizando `post` y cambiando la ruta a `http://httpbin.org/post`. \n",
    "\n",
    "Para enviar los datos tendremos que cambiar el argumento `params` por `data` para especificar datos de formularios:"
   ]
  },
  {
   "cell_type": "code",
   "execution_count": null,
   "id": "e95016a2",
   "metadata": {},
   "outputs": [],
   "source": [
    "url = 'https://httpbin.org/post'\n",
    "\n",
    "payload = {\n",
    "    'nombre': 'Hector Costa Guzman',\n",
    "    'intereses':['Python', 'Videojuegos'],\n",
    "    'edad': 33,\n",
    "}\n",
    "\n",
    "r = requests.post(url, data=payload)\n",
    "\n",
    "print(r.text)"
   ]
  },
  {
   "cell_type": "markdown",
   "id": "c1bea44c",
   "metadata": {},
   "source": [
    "En caso de que un servidor solo acepte `payload` en formato JSON hay que utilizar el argumento `json=payload` en lugar de `data=payload`:"
   ]
  },
  {
   "cell_type": "code",
   "execution_count": null,
   "id": "20c514a9",
   "metadata": {},
   "outputs": [],
   "source": [
    "url = 'https://httpbin.org/post'\n",
    "\n",
    "payload = {\n",
    "    'nombre': 'Hector Costa Guzman',\n",
    "    'intereses':['Python', 'Videojuegos'],\n",
    "    'edad': 33,\n",
    "}\n",
    "\n",
    "r = requests.post(url, json=payload)\n",
    "\n",
    "print(r.text)"
   ]
  },
  {
   "cell_type": "markdown",
   "id": "3e2caef6",
   "metadata": {},
   "source": [
    "## Errores en las peticiones\n",
    "\n",
    "Es posible que en algunas ocasiones los servidores HTTP no se encuentren activos o las peticiones devuelvan un error.\n",
    "\n",
    "Vamos a pedir a `httpbin` que simule una respuesta de error haciendo una petición GET a `https://httpbin.org/status/404`:"
   ]
  },
  {
   "cell_type": "code",
   "execution_count": null,
   "id": "5aad67b6",
   "metadata": {},
   "outputs": [],
   "source": [
    "r = requests.get('https://httpbin.org/status/404')"
   ]
  },
  {
   "cell_type": "markdown",
   "id": "bc108790",
   "metadata": {},
   "source": [
    "Como veremos el código de respuesta es 404 (no encontrado):"
   ]
  },
  {
   "cell_type": "code",
   "execution_count": null,
   "id": "67893289",
   "metadata": {},
   "outputs": [],
   "source": [
    "print(r.status_code)"
   ]
  },
  {
   "cell_type": "markdown",
   "id": "9427b398",
   "metadata": {},
   "source": [
    "Este error podemos tratarlo en un bloque `try-except` de la siguiente forma:"
   ]
  },
  {
   "cell_type": "code",
   "execution_count": null,
   "id": "c32577c9",
   "metadata": {},
   "outputs": [],
   "source": [
    "import requests\n",
    "from requests import HTTPError\n",
    "\n",
    "try:\n",
    "    # Hacemos la petición al sitio de pruebas\n",
    "    r = requests.get(\"https://httpbin.org/status/404\")\n",
    "    # Pedimos que se invoque una excepcion HTTPError si hay algún fallo\n",
    "    r.raise_for_status()\n",
    "    # Si no hay un fallo mostramos algo de prueba\n",
    "    print(r.status_code)\n",
    "except HTTPError as ex:\n",
    "    # Si se ha invocado una excepción HTTPError mostramos el resultado\n",
    "    print(ex)"
   ]
  },
  {
   "cell_type": "markdown",
   "id": "a367d2a1",
   "metadata": {},
   "source": [
    "## Peticiones con timeout\n",
    "\n",
    "Otra posibilidad es que en lugar de devolver un error el servidor simplemente no responda o tarde mucho tiempo.\n",
    "\n",
    "Por defecto las peticiones no tienen un `timeout`, por lo que `requests` quedará en espera hasta que el servidor responda. Podemos simular esta situación estableciendo un tiempo de `delay` de 5 segundos en una petición a la ruta `https://httpbin.org/delay/5`:"
   ]
  },
  {
   "cell_type": "code",
   "execution_count": null,
   "id": "846a6e2f",
   "metadata": {},
   "outputs": [],
   "source": [
    "r = requests.get('https://httpbin.org/delay/5')"
   ]
  },
  {
   "cell_type": "code",
   "execution_count": null,
   "id": "98149922",
   "metadata": {},
   "outputs": [],
   "source": [
    "print(r.status_code)"
   ]
  },
  {
   "cell_type": "markdown",
   "id": "e6153d0e",
   "metadata": {},
   "source": [
    "Sin embargo podemos indicarle un tiempo máximo para realizar la petición, por ejemplo si le indicamos 3 segundos fallará porque es menos que los 5 que tarda en responder:"
   ]
  },
  {
   "cell_type": "code",
   "execution_count": null,
   "id": "34845645",
   "metadata": {},
   "outputs": [],
   "source": [
    "r = requests.get('https://httpbin.org/delay/5', timeout=3)"
   ]
  },
  {
   "cell_type": "markdown",
   "id": "5757e0ce",
   "metadata": {},
   "source": [
    "Como vemos se devuelve un error `TimeoutError`, debemos envolver el bloque de código en un `try-except` y tratar este caso de forma específica:"
   ]
  },
  {
   "cell_type": "code",
   "execution_count": null,
   "id": "12eb2933",
   "metadata": {},
   "outputs": [],
   "source": [
    "from requests.exceptions import Timeout\n",
    "\n",
    "try:\n",
    "    requests.get('https://httpbin.org/delay/5', timeout=3)\n",
    "except Timeout:\n",
    "    print(\"ERROR: La petición ha tardado más de 3 segundos\")"
   ]
  },
  {
   "cell_type": "markdown",
   "id": "e4a69bae",
   "metadata": {},
   "source": [
    "Las posibilidades del módulo `requests` son tantas como utilizar manualmente el navegador, os dejo la [documentación oficial](https://requests.readthedocs.io/en/latest/) para aprender más."
   ]
  },
  {
   "cell_type": "code",
   "execution_count": null,
   "id": "dcbb4025",
   "metadata": {},
   "outputs": [],
   "source": []
  }
 ],
 "metadata": {
  "kernelspec": {
   "display_name": "Python 3 (ipykernel)",
   "language": "python",
   "name": "python3"
  },
  "language_info": {
   "codemirror_mode": {
    "name": "ipython",
    "version": 3
   },
   "file_extension": ".py",
   "mimetype": "text/x-python",
   "name": "python",
   "nbconvert_exporter": "python",
   "pygments_lexer": "ipython3",
   "version": "3.10.5"
  }
 },
 "nbformat": 4,
 "nbformat_minor": 5
}
