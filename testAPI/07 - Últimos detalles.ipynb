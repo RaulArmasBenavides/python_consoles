{
 "cells": [
  {
   "cell_type": "markdown",
   "id": "82857f1d",
   "metadata": {},
   "source": [
    "# Últimos detalles\n",
    "\n",
    "En este punto ya hemos finalizado la implementación de la API, podemos acabar estableciéndole un nombre y una descripción:\n",
    "\n",
    "```python\n",
    "app = FastAPI(\n",
    "    title=\"API del Gestor de clientes\",\n",
    "    description=\"Ofrece diferentes funciones para gestionar los clientes.\")\n",
    "```\n",
    "\n",
    "Algo que también podemos hacer es unificar todas las rutas comunes en el mismo grupo utilizando los tags:\n",
    "\n",
    "```python\n",
    "@app.get( \"/clientes/\", tags=[\"Clientes\"])\n",
    "@app.get(\"/clientes/buscar/{dni}/\", tags=[\"Clientes\"])\n",
    "@app.post(\"/clientes/crear/\", tags=[\"Clientes\"])\n",
    "@app.put(\"/clientes/actualizar/\", tags=[\"Clientes\"])\n",
    "@app.delete(\"/clientes/borrar/{dni}/\", tags=[\"Clientes\"])\n",
    "```\n",
    "\n",
    "De esta forma la documentación quedará más interesante:\n",
    "\n",
    "![](docs/img04.png)\n",
    "\n",
    "Ya véis que añadir una API a nuestro gestor de clientes no ha sido tan difícil y ahora podemos usar el programa en la terminal, mediante una interfaz gráfica o a través de peticiones web que podemos ejecutar desde aplicaciones externas, nada mal.\n",
    "\n",
    "Si queréis aprender más sobre `FastAPI` os recomiendo los tutoriales de la [documentación oficial](https://fastapi.tiangolo.com/tutorial/)."
   ]
  },
  {
   "cell_type": "code",
   "execution_count": null,
   "id": "302dbb75",
   "metadata": {},
   "outputs": [],
   "source": []
  }
 ],
 "metadata": {
  "kernelspec": {
   "display_name": "Python 3 (ipykernel)",
   "language": "python",
   "name": "python3"
  },
  "language_info": {
   "codemirror_mode": {
    "name": "ipython",
    "version": 3
   },
   "file_extension": ".py",
   "mimetype": "text/x-python",
   "name": "python",
   "nbconvert_exporter": "python",
   "pygments_lexer": "ipython3",
   "version": "3.10.5"
  }
 },
 "nbformat": 4,
 "nbformat_minor": 5
}
