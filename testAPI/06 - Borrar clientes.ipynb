{
 "cells": [
  {
   "cell_type": "markdown",
   "id": "ec538fe3",
   "metadata": {},
   "source": [
    "# Borrar clientes\n",
    "\n",
    "La última función es la de borrar a partir de un DNI. Es extremadamente fácil, casi igual que la de buscar un clientes pasándole el DNI como un parámetro a la URL a una función decorada con el método `DELETE`.\n",
    "\n",
    "Si el cliente se encuentra lo borramos y lo devolvemos, sino retornamos una execepción 404 como siempre:\n",
    "\n",
    "```python\n",
    "@app.delete(\"/clientes/borrar/{dni}/\")\n",
    "async def clientes_borrar(dni: str):\n",
    "    if db.Clientes.buscar(dni=dni):\n",
    "        cliente = db.Clientes.borrar(dni=dni)\n",
    "        return JSONResponse(content=cliente.to_dict(), headers=headers)\n",
    "    raise HTTPException(status_code=404)\n",
    "```\n",
    "\n",
    "Si probamos la petición (http://127.0.0.1:8000/docs#/default/clientes_borrar_clientes_borrar__dni___delete), en caso de encontrar el cliente lo devolverá:\n",
    "\n",
    "```json\n",
    "{\"dni\":\"15J\",\"nombre\":\"Victoria\",\"apellido\":\"Pérez\"}\n",
    "```\n",
    "\n",
    "Pero ya no estará en el fichero CSV:\n",
    "\n",
    "```csv\n",
    "48H;Manolo;López\n",
    "28Z;Mariana;García\n",
    "36N;Fernando;López\n",
    "```\n",
    "\n",
    "Y si no lo encuentra recibiremos un error 404:\n",
    "\n",
    "```json\n",
    "{\n",
    "  \"detail\": \"Not Found\"\n",
    "}\n",
    "```\n",
    "\n",
    "¡Función de borrado finalizada!"
   ]
  },
  {
   "cell_type": "code",
   "execution_count": null,
   "id": "9f45d162",
   "metadata": {},
   "outputs": [],
   "source": []
  }
 ],
 "metadata": {
  "kernelspec": {
   "display_name": "Python 3 (ipykernel)",
   "language": "python",
   "name": "python3"
  },
  "language_info": {
   "codemirror_mode": {
    "name": "ipython",
    "version": 3
   },
   "file_extension": ".py",
   "mimetype": "text/x-python",
   "name": "python",
   "nbconvert_exporter": "python",
   "pygments_lexer": "ipython3",
   "version": "3.10.5"
  }
 },
 "nbformat": 4,
 "nbformat_minor": 5
}
