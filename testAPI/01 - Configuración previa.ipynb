{
 "cells": [
  {
   "cell_type": "markdown",
   "id": "37594fc8",
   "metadata": {},
   "source": [
    "# Configuración previa\n",
    "\n",
    "En esta unidad vamos a desarrollar una API con `FastAPI` para el gestor de clientes del proyecto final de curso. Permitirá consultar, crear, modificar y borrar clientes mediante peticiones HTTP.\n",
    "\n",
    "Encontraréis el directorio `gestor` con una copia del proyecto tal como lo hicimos. También tendréis a vuestra disposición [el repositorio](https://github.com/hektorprofe/curso-gestor-clientes-python) por si queréis revisar el código final en cualquier momento:\n",
    "\n",
    "![](docs/img01.png)\n",
    "\n",
    "## Entorno virtual\n",
    "\n",
    "Dentro del proyecto vamos a crear un entorno virtual con `Pipenv`, en él instalaremos [FastAPI](https://github.com/tiangolo/fastapi), el servidor web ASGI [uvicorn](https://github.com/encode/uvicorn) sobre el cuál se ejecutará el servicio y el módulo para validación de objetos [pydantic](https://github.com/samuelcolvin/pydantic):\n",
    "\n",
    "```bash\n",
    "> cd gestor\n",
    "> pipenv install fastapi uvicorn pydantic\n",
    "```\n",
    "\n",
    "También podemos instalar `pytest` desde el `requirements.txt` y ejecutar las pruebas para ver si todo está bien:\n",
    "\n",
    "```bash\n",
    "> pipenv install -r requirements.txt\n",
    "> pipenv run pytest -v\n",
    "```\n",
    "\n",
    "## Ficheros\n",
    "\n",
    "### clientes.csv\n",
    "\n",
    "Necesitaremos tener algunos clientes de prueba en `clientes.csv`, revisad que tenéis alguno:\n",
    "\n",
    "```csv\n",
    "15J;Marta;Pérez\n",
    "48H;Manolo;López\n",
    "28Z;Mariana;García\n",
    "```\n",
    "\n",
    "### api.py\n",
    "\n",
    "Por lo demás solo necesitamos crear un script para la API:\n",
    "\n",
    "```python\n",
    "print(\"Servidor de la API...\")\n",
    "```\n",
    "\n",
    "\n",
    "Y ya estamos listos para empezar."
   ]
  },
  {
   "cell_type": "code",
   "execution_count": null,
   "id": "4d85aece",
   "metadata": {},
   "outputs": [],
   "source": []
  }
 ],
 "metadata": {
  "kernelspec": {
   "display_name": "Python 3 (ipykernel)",
   "language": "python",
   "name": "python3"
  },
  "language_info": {
   "codemirror_mode": {
    "name": "ipython",
    "version": 3
   },
   "file_extension": ".py",
   "mimetype": "text/x-python",
   "name": "python",
   "nbconvert_exporter": "python",
   "pygments_lexer": "ipython3",
   "version": "3.10.5"
  }
 },
 "nbformat": 4,
 "nbformat_minor": 5
}
